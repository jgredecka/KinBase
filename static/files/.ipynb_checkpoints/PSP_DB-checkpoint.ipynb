{
 "cells": [
  {
   "cell_type": "code",
   "execution_count": 28,
   "metadata": {},
   "outputs": [],
   "source": [
    "import csv\n",
    "import pandas as pd\n",
    "\n",
    "final=[]\n",
    "with open (\"final_phospho.csv\") as csv_file:\n",
    "    header=csv_file.readline()\n",
    "    csv_reader = csv.reader(csv_file, delimiter=\",\")\n",
    "    final = [line for line in csv_reader]\n",
    "    \n",
    "for x in final:\n",
    "    x.append('PSP')\n",
    "\n",
    "df = pd.DataFrame(final, columns=['Phosphosite', 'Substrate', 'Locus', 'Sequence (+)', 'Sequence (-)', 'Kinase', 'Source'])\n",
    "file = df.to_csv(\"final_phospho.csv\", index=False)"
   ]
  },
  {
   "cell_type": "code",
   "execution_count": null,
   "metadata": {},
   "outputs": [],
   "source": [
    "['Phosphosite', 'Substrate', 'Locus', 'Sequence (+)', 'Sequence (-)', 'Kinase']"
   ]
  }
 ],
 "metadata": {
  "kernelspec": {
   "display_name": "Python 3",
   "language": "python",
   "name": "python3"
  },
  "language_info": {
   "codemirror_mode": {
    "name": "ipython",
    "version": 3
   },
   "file_extension": ".py",
   "mimetype": "text/x-python",
   "name": "python",
   "nbconvert_exporter": "python",
   "pygments_lexer": "ipython3",
   "version": "3.7.3"
  }
 },
 "nbformat": 4,
 "nbformat_minor": 2
}
